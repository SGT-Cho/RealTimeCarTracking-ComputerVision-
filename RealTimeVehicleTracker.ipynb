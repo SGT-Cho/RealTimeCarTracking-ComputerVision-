{
 "cells": [
  {
   "cell_type": "code",
   "execution_count": 4,
   "metadata": {},
   "outputs": [],
   "source": [
    "import math\n",
    "\n",
    "\n",
    "class Tracker:\n",
    "    def __init__(self):\n",
    "        # Store the center positions of the objects\n",
    "        self.center_points = {}\n",
    "        # Keep the count of the IDs\n",
    "        # each time a new object id detected, the count will increase by one\n",
    "        self.id_count = 0\n",
    "\n",
    "\n",
    "    def update(self, objects_rect):\n",
    "        # Objects boxes and ids\n",
    "        objects_bbs_ids = []\n",
    "\n",
    "        # Get center point of new object\n",
    "        for rect in objects_rect:\n",
    "            x, y, w, h = rect\n",
    "            cx = (x + x + w) // 2\n",
    "            cy = (y + y + h) // 2\n",
    "\n",
    "            # Find out if that object was detected already\n",
    "            same_object_detected = False\n",
    "            for id, pt in self.center_points.items():\n",
    "                dist = math.hypot(cx - pt[0], cy - pt[1])\n",
    "\n",
    "                if dist < 35:\n",
    "                    self.center_points[id] = (cx, cy)\n",
    "#                    print(self.center_points)\n",
    "                    objects_bbs_ids.append([x, y, w, h, id])\n",
    "                    same_object_detected = True\n",
    "                    break\n",
    "\n",
    "            # New object is detected we assign the ID to that object\n",
    "            if same_object_detected is False:\n",
    "                self.center_points[self.id_count] = (cx, cy)\n",
    "                objects_bbs_ids.append([x, y, w, h, self.id_count])\n",
    "                self.id_count += 1\n",
    "\n",
    "        # Clean the dictionary by center points to remove IDS not used anymore\n",
    "        new_center_points = {}\n",
    "        for obj_bb_id in objects_bbs_ids:\n",
    "            _, _, _, _, object_id = obj_bb_id\n",
    "            center = self.center_points[object_id]\n",
    "            new_center_points[object_id] = center\n",
    "\n",
    "        # Update dictionary with IDs not used removed\n",
    "        self.center_points = new_center_points.copy()\n",
    "        return objects_bbs_ids"
   ]
  },
  {
   "cell_type": "code",
   "execution_count": 13,
   "metadata": {},
   "outputs": [
    {
     "name": "stderr",
     "output_type": "stream",
     "text": [
      "\n",
      "0: 416x640 8 cars, 1 umbrella, 154.9ms\n",
      "Speed: 2.0ms preprocess, 154.9ms inference, 1.3ms postprocess per image at shape (1, 3, 416, 640)\n",
      "\n",
      "0: 416x640 9 cars, 1 umbrella, 156.9ms\n",
      "Speed: 2.4ms preprocess, 156.9ms inference, 1.0ms postprocess per image at shape (1, 3, 416, 640)\n",
      "\n"
     ]
    },
    {
     "name": "stdout",
     "output_type": "stream",
     "text": [
      "[712, 259]\n",
      "[712, 259]\n"
     ]
    },
    {
     "name": "stderr",
     "output_type": "stream",
     "text": [
      "0: 416x640 8 cars, 1 umbrella, 155.3ms\n",
      "Speed: 3.0ms preprocess, 155.3ms inference, 1.0ms postprocess per image at shape (1, 3, 416, 640)\n",
      "\n",
      "0: 416x640 7 cars, 1 truck, 1 umbrella, 158.0ms\n",
      "Speed: 2.5ms preprocess, 158.0ms inference, 1.0ms postprocess per image at shape (1, 3, 416, 640)\n",
      "\n",
      "0: 416x640 7 cars, 1 truck, 1 umbrella, 159.9ms\n",
      "Speed: 3.3ms preprocess, 159.9ms inference, 1.0ms postprocess per image at shape (1, 3, 416, 640)\n",
      "\n",
      "0: 416x640 7 cars, 1 truck, 1 umbrella, 153.2ms\n",
      "Speed: 3.7ms preprocess, 153.2ms inference, 1.0ms postprocess per image at shape (1, 3, 416, 640)\n",
      "\n",
      "0: 416x640 8 cars, 1 umbrella, 183.1ms\n",
      "Speed: 3.2ms preprocess, 183.1ms inference, 0.0ms postprocess per image at shape (1, 3, 416, 640)\n",
      "\n",
      "0: 416x640 7 cars, 1 truck, 1 umbrella, 159.6ms\n",
      "Speed: 3.0ms preprocess, 159.6ms inference, 1.0ms postprocess per image at shape (1, 3, 416, 640)\n",
      "\n",
      "0: 416x640 8 cars, 1 umbrella, 150.9ms\n",
      "Speed: 2.9ms preprocess, 150.9ms inference, 1.0ms postprocess per image at shape (1, 3, 416, 640)\n",
      "\n",
      "0: 416x640 8 cars, 1 umbrella, 151.4ms\n",
      "Speed: 4.0ms preprocess, 151.4ms inference, 1.5ms postprocess per image at shape (1, 3, 416, 640)\n",
      "\n",
      "0: 416x640 8 cars, 1 umbrella, 163.2ms\n",
      "Speed: 3.0ms preprocess, 163.2ms inference, 1.5ms postprocess per image at shape (1, 3, 416, 640)\n",
      "\n",
      "0: 416x640 8 cars, 1 umbrella, 171.3ms\n",
      "Speed: 3.6ms preprocess, 171.3ms inference, 1.2ms postprocess per image at shape (1, 3, 416, 640)\n",
      "\n",
      "0: 416x640 8 cars, 1 umbrella, 162.4ms\n",
      "Speed: 3.5ms preprocess, 162.4ms inference, 1.3ms postprocess per image at shape (1, 3, 416, 640)\n",
      "\n",
      "0: 416x640 8 cars, 1 umbrella, 151.5ms\n",
      "Speed: 3.0ms preprocess, 151.5ms inference, 1.0ms postprocess per image at shape (1, 3, 416, 640)\n",
      "\n",
      "0: 416x640 8 cars, 1 umbrella, 153.2ms\n",
      "Speed: 3.5ms preprocess, 153.2ms inference, 2.6ms postprocess per image at shape (1, 3, 416, 640)\n",
      "\n",
      "0: 416x640 7 cars, 1 umbrella, 170.9ms\n",
      "Speed: 2.0ms preprocess, 170.9ms inference, 1.1ms postprocess per image at shape (1, 3, 416, 640)\n",
      "\n",
      "0: 416x640 10 cars, 1 umbrella, 158.2ms\n",
      "Speed: 2.0ms preprocess, 158.2ms inference, 1.0ms postprocess per image at shape (1, 3, 416, 640)\n",
      "\n",
      "0: 416x640 9 cars, 1 umbrella, 150.6ms\n",
      "Speed: 2.1ms preprocess, 150.6ms inference, 1.0ms postprocess per image at shape (1, 3, 416, 640)\n",
      "\n",
      "0: 416x640 11 cars, 150.8ms\n",
      "Speed: 3.5ms preprocess, 150.8ms inference, 1.0ms postprocess per image at shape (1, 3, 416, 640)\n",
      "\n",
      "0: 416x640 10 cars, 1 umbrella, 150.0ms\n",
      "Speed: 3.0ms preprocess, 150.0ms inference, 1.0ms postprocess per image at shape (1, 3, 416, 640)\n",
      "\n",
      "0: 416x640 9 cars, 149.2ms\n",
      "Speed: 3.0ms preprocess, 149.2ms inference, 1.0ms postprocess per image at shape (1, 3, 416, 640)\n",
      "\n",
      "0: 416x640 10 cars, 156.4ms\n",
      "Speed: 3.0ms preprocess, 156.4ms inference, 1.0ms postprocess per image at shape (1, 3, 416, 640)\n",
      "\n",
      "0: 416x640 11 cars, 150.1ms\n",
      "Speed: 2.0ms preprocess, 150.1ms inference, 1.0ms postprocess per image at shape (1, 3, 416, 640)\n",
      "\n",
      "0: 416x640 9 cars, 162.8ms\n",
      "Speed: 3.7ms preprocess, 162.8ms inference, 2.5ms postprocess per image at shape (1, 3, 416, 640)\n",
      "\n",
      "0: 416x640 9 cars, 169.3ms\n",
      "Speed: 3.8ms preprocess, 169.3ms inference, 1.2ms postprocess per image at shape (1, 3, 416, 640)\n",
      "\n",
      "0: 416x640 1 person, 10 cars, 158.3ms\n",
      "Speed: 3.1ms preprocess, 158.3ms inference, 1.4ms postprocess per image at shape (1, 3, 416, 640)\n",
      "\n",
      "0: 416x640 9 cars, 156.0ms\n",
      "Speed: 2.5ms preprocess, 156.0ms inference, 1.1ms postprocess per image at shape (1, 3, 416, 640)\n",
      "\n",
      "0: 416x640 10 cars, 1 truck, 165.3ms\n",
      "Speed: 2.5ms preprocess, 165.3ms inference, 1.0ms postprocess per image at shape (1, 3, 416, 640)\n",
      "\n",
      "0: 416x640 9 cars, 155.3ms\n",
      "Speed: 3.0ms preprocess, 155.3ms inference, 0.0ms postprocess per image at shape (1, 3, 416, 640)\n",
      "\n",
      "0: 416x640 9 cars, 1 umbrella, 152.4ms\n",
      "Speed: 2.4ms preprocess, 152.4ms inference, 1.0ms postprocess per image at shape (1, 3, 416, 640)\n",
      "\n",
      "0: 416x640 8 cars, 1 truck, 155.7ms\n",
      "Speed: 2.0ms preprocess, 155.7ms inference, 0.0ms postprocess per image at shape (1, 3, 416, 640)\n",
      "\n",
      "0: 416x640 8 cars, 159.4ms\n",
      "Speed: 3.2ms preprocess, 159.4ms inference, 0.0ms postprocess per image at shape (1, 3, 416, 640)\n",
      "\n",
      "0: 416x640 8 cars, 1 truck, 1 umbrella, 154.5ms\n",
      "Speed: 2.4ms preprocess, 154.5ms inference, 1.1ms postprocess per image at shape (1, 3, 416, 640)\n",
      "\n",
      "0: 416x640 8 cars, 1 umbrella, 157.2ms\n",
      "Speed: 2.5ms preprocess, 157.2ms inference, 1.3ms postprocess per image at shape (1, 3, 416, 640)\n",
      "\n",
      "0: 416x640 9 cars, 1 umbrella, 151.3ms\n",
      "Speed: 3.5ms preprocess, 151.3ms inference, 0.0ms postprocess per image at shape (1, 3, 416, 640)\n",
      "\n",
      "0: 416x640 9 cars, 1 umbrella, 158.0ms\n",
      "Speed: 3.0ms preprocess, 158.0ms inference, 0.5ms postprocess per image at shape (1, 3, 416, 640)\n",
      "\n",
      "0: 416x640 9 cars, 1 umbrella, 158.2ms\n",
      "Speed: 2.5ms preprocess, 158.2ms inference, 2.0ms postprocess per image at shape (1, 3, 416, 640)\n",
      "\n",
      "0: 416x640 8 cars, 1 umbrella, 165.8ms\n",
      "Speed: 2.7ms preprocess, 165.8ms inference, 0.0ms postprocess per image at shape (1, 3, 416, 640)\n",
      "\n",
      "0: 416x640 8 cars, 1 umbrella, 163.9ms\n",
      "Speed: 2.3ms preprocess, 163.9ms inference, 1.0ms postprocess per image at shape (1, 3, 416, 640)\n",
      "\n",
      "0: 416x640 7 cars, 1 umbrella, 162.2ms\n",
      "Speed: 3.0ms preprocess, 162.2ms inference, 1.0ms postprocess per image at shape (1, 3, 416, 640)\n",
      "\n",
      "0: 416x640 8 cars, 1 umbrella, 148.3ms\n",
      "Speed: 3.5ms preprocess, 148.3ms inference, 1.4ms postprocess per image at shape (1, 3, 416, 640)\n",
      "\n",
      "0: 416x640 7 cars, 1 bus, 1 umbrella, 160.5ms\n",
      "Speed: 4.0ms preprocess, 160.5ms inference, 1.0ms postprocess per image at shape (1, 3, 416, 640)\n",
      "\n",
      "0: 416x640 7 cars, 1 bus, 1 umbrella, 167.3ms\n",
      "Speed: 3.5ms preprocess, 167.3ms inference, 2.3ms postprocess per image at shape (1, 3, 416, 640)\n",
      "\n",
      "0: 416x640 7 cars, 1 umbrella, 161.0ms\n",
      "Speed: 2.3ms preprocess, 161.0ms inference, 1.0ms postprocess per image at shape (1, 3, 416, 640)\n",
      "\n",
      "0: 416x640 8 cars, 1 umbrella, 171.9ms\n",
      "Speed: 2.4ms preprocess, 171.9ms inference, 1.0ms postprocess per image at shape (1, 3, 416, 640)\n",
      "\n",
      "0: 416x640 8 cars, 1 umbrella, 168.1ms\n",
      "Speed: 3.5ms preprocess, 168.1ms inference, 2.0ms postprocess per image at shape (1, 3, 416, 640)\n",
      "\n",
      "0: 416x640 8 cars, 1 umbrella, 171.7ms\n",
      "Speed: 2.5ms preprocess, 171.7ms inference, 1.1ms postprocess per image at shape (1, 3, 416, 640)\n",
      "\n",
      "0: 416x640 7 cars, 1 umbrella, 170.3ms\n",
      "Speed: 2.5ms preprocess, 170.3ms inference, 1.4ms postprocess per image at shape (1, 3, 416, 640)\n",
      "\n",
      "0: 416x640 7 cars, 1 umbrella, 160.6ms\n",
      "Speed: 3.1ms preprocess, 160.6ms inference, 1.1ms postprocess per image at shape (1, 3, 416, 640)\n",
      "\n",
      "0: 416x640 9 cars, 1 umbrella, 173.7ms\n",
      "Speed: 3.5ms preprocess, 173.7ms inference, 1.8ms postprocess per image at shape (1, 3, 416, 640)\n",
      "\n",
      "0: 416x640 9 cars, 1 umbrella, 166.1ms\n",
      "Speed: 2.7ms preprocess, 166.1ms inference, 0.0ms postprocess per image at shape (1, 3, 416, 640)\n",
      "\n",
      "0: 416x640 9 cars, 1 bus, 1 umbrella, 153.3ms\n",
      "Speed: 1.0ms preprocess, 153.3ms inference, 1.0ms postprocess per image at shape (1, 3, 416, 640)\n",
      "\n",
      "0: 416x640 10 cars, 1 umbrella, 154.1ms\n",
      "Speed: 3.5ms preprocess, 154.1ms inference, 1.0ms postprocess per image at shape (1, 3, 416, 640)\n",
      "\n",
      "0: 416x640 10 cars, 1 umbrella, 161.1ms\n",
      "Speed: 3.2ms preprocess, 161.1ms inference, 0.0ms postprocess per image at shape (1, 3, 416, 640)\n",
      "\n",
      "0: 416x640 11 cars, 1 umbrella, 147.1ms\n",
      "Speed: 3.0ms preprocess, 147.1ms inference, 1.4ms postprocess per image at shape (1, 3, 416, 640)\n",
      "\n",
      "0: 416x640 10 cars, 1 umbrella, 146.6ms\n",
      "Speed: 3.0ms preprocess, 146.6ms inference, 1.5ms postprocess per image at shape (1, 3, 416, 640)\n",
      "\n",
      "0: 416x640 9 cars, 1 umbrella, 150.4ms\n",
      "Speed: 3.5ms preprocess, 150.4ms inference, 1.1ms postprocess per image at shape (1, 3, 416, 640)\n",
      "\n",
      "0: 416x640 11 cars, 1 umbrella, 144.6ms\n",
      "Speed: 2.0ms preprocess, 144.6ms inference, 1.0ms postprocess per image at shape (1, 3, 416, 640)\n",
      "\n",
      "0: 416x640 9 cars, 1 umbrella, 147.9ms\n",
      "Speed: 2.0ms preprocess, 147.9ms inference, 1.1ms postprocess per image at shape (1, 3, 416, 640)\n",
      "\n",
      "0: 416x640 9 cars, 1 truck, 1 umbrella, 153.6ms\n",
      "Speed: 3.3ms preprocess, 153.6ms inference, 1.0ms postprocess per image at shape (1, 3, 416, 640)\n",
      "\n",
      "0: 416x640 10 cars, 1 truck, 1 umbrella, 149.7ms\n",
      "Speed: 2.2ms preprocess, 149.7ms inference, 0.0ms postprocess per image at shape (1, 3, 416, 640)\n",
      "\n",
      "0: 416x640 10 cars, 1 umbrella, 156.8ms\n",
      "Speed: 2.5ms preprocess, 156.8ms inference, 1.0ms postprocess per image at shape (1, 3, 416, 640)\n",
      "\n",
      "0: 416x640 9 cars, 1 umbrella, 167.4ms\n",
      "Speed: 3.0ms preprocess, 167.4ms inference, 2.0ms postprocess per image at shape (1, 3, 416, 640)\n",
      "\n",
      "0: 416x640 10 cars, 1 truck, 1 umbrella, 159.1ms\n",
      "Speed: 4.0ms preprocess, 159.1ms inference, 1.0ms postprocess per image at shape (1, 3, 416, 640)\n",
      "\n",
      "0: 416x640 8 cars, 1 truck, 1 umbrella, 145.1ms\n",
      "Speed: 3.5ms preprocess, 145.1ms inference, 1.0ms postprocess per image at shape (1, 3, 416, 640)\n",
      "\n"
     ]
    },
    {
     "name": "stdout",
     "output_type": "stream",
     "text": [
      "[418, 40]\n",
      "[418, 16]\n"
     ]
    },
    {
     "name": "stderr",
     "output_type": "stream",
     "text": [
      "0: 416x640 9 cars, 1 truck, 1 umbrella, 152.7ms\n",
      "Speed: 5.1ms preprocess, 152.7ms inference, 1.1ms postprocess per image at shape (1, 3, 416, 640)\n",
      "\n",
      "0: 416x640 9 cars, 1 umbrella, 152.2ms\n",
      "Speed: 2.5ms preprocess, 152.2ms inference, 1.0ms postprocess per image at shape (1, 3, 416, 640)\n",
      "\n"
     ]
    },
    {
     "name": "stdout",
     "output_type": "stream",
     "text": [
      "[359, 60]\n",
      "[358, 60]\n",
      "[349, 40]\n",
      "[351, 40]\n"
     ]
    },
    {
     "name": "stderr",
     "output_type": "stream",
     "text": [
      "0: 416x640 9 cars, 1 umbrella, 151.3ms\n",
      "Speed: 2.5ms preprocess, 151.3ms inference, 1.1ms postprocess per image at shape (1, 3, 416, 640)\n",
      "\n",
      "0: 416x640 9 cars, 1 umbrella, 150.8ms\n",
      "Speed: 3.0ms preprocess, 150.8ms inference, 1.0ms postprocess per image at shape (1, 3, 416, 640)\n",
      "\n"
     ]
    },
    {
     "name": "stdout",
     "output_type": "stream",
     "text": [
      "[312, 68]\n",
      "[339, 52]\n",
      "[339, 53]\n"
     ]
    },
    {
     "name": "stderr",
     "output_type": "stream",
     "text": [
      "0: 416x640 10 cars, 1 umbrella, 148.7ms\n",
      "Speed: 3.1ms preprocess, 148.7ms inference, 1.4ms postprocess per image at shape (1, 3, 416, 640)\n",
      "\n",
      "0: 416x640 9 cars, 1 umbrella, 155.3ms\n",
      "Speed: 3.1ms preprocess, 155.3ms inference, 2.0ms postprocess per image at shape (1, 3, 416, 640)\n",
      "\n"
     ]
    },
    {
     "name": "stdout",
     "output_type": "stream",
     "text": [
      "[333, 50]\n",
      "[334, 44]\n"
     ]
    },
    {
     "name": "stderr",
     "output_type": "stream",
     "text": [
      "0: 416x640 9 cars, 1 umbrella, 163.9ms\n",
      "Speed: 3.5ms preprocess, 163.9ms inference, 1.3ms postprocess per image at shape (1, 3, 416, 640)\n",
      "\n",
      "0: 416x640 9 cars, 1 truck, 1 umbrella, 149.4ms\n",
      "Speed: 2.0ms preprocess, 149.4ms inference, 1.5ms postprocess per image at shape (1, 3, 416, 640)\n",
      "\n"
     ]
    },
    {
     "name": "stdout",
     "output_type": "stream",
     "text": [
      "[307, 54]\n",
      "[307, 53]\n",
      "[336, 63]\n"
     ]
    },
    {
     "name": "stderr",
     "output_type": "stream",
     "text": [
      "0: 416x640 9 cars, 1 truck, 1 umbrella, 160.2ms\n",
      "Speed: 3.3ms preprocess, 160.2ms inference, 1.5ms postprocess per image at shape (1, 3, 416, 640)\n",
      "\n",
      "0: 416x640 10 cars, 1 umbrella, 155.0ms\n",
      "Speed: 3.0ms preprocess, 155.0ms inference, 1.1ms postprocess per image at shape (1, 3, 416, 640)\n",
      "\n"
     ]
    },
    {
     "name": "stdout",
     "output_type": "stream",
     "text": [
      "[510, 144]\n",
      "[512, 145]\n",
      "[609, 190]\n"
     ]
    },
    {
     "name": "stderr",
     "output_type": "stream",
     "text": [
      "0: 416x640 11 cars, 1 umbrella, 155.0ms\n",
      "Speed: 3.0ms preprocess, 155.0ms inference, 1.1ms postprocess per image at shape (1, 3, 416, 640)\n",
      "\n",
      "0: 416x640 9 cars, 1 umbrella, 159.7ms\n",
      "Speed: 2.1ms preprocess, 159.7ms inference, 1.0ms postprocess per image at shape (1, 3, 416, 640)\n",
      "\n"
     ]
    },
    {
     "name": "stdout",
     "output_type": "stream",
     "text": [
      "[608, 197]\n",
      "[607, 197]\n",
      "[607, 198]\n",
      "[601, 205]\n"
     ]
    },
    {
     "name": "stderr",
     "output_type": "stream",
     "text": [
      "0: 416x640 9 cars, 1 umbrella, 150.1ms\n",
      "Speed: 3.2ms preprocess, 150.1ms inference, 1.5ms postprocess per image at shape (1, 3, 416, 640)\n",
      "\n",
      "0: 416x640 8 cars, 1 umbrella, 150.7ms\n",
      "Speed: 2.0ms preprocess, 150.7ms inference, 0.0ms postprocess per image at shape (1, 3, 416, 640)\n",
      "\n",
      "0: 416x640 9 cars, 1 umbrella, 148.6ms\n",
      "Speed: 2.3ms preprocess, 148.6ms inference, 0.0ms postprocess per image at shape (1, 3, 416, 640)\n",
      "\n",
      "0: 416x640 9 cars, 1 umbrella, 149.7ms\n",
      "Speed: 3.0ms preprocess, 149.7ms inference, 1.0ms postprocess per image at shape (1, 3, 416, 640)\n",
      "\n"
     ]
    },
    {
     "name": "stdout",
     "output_type": "stream",
     "text": [
      "[601, 204]\n"
     ]
    },
    {
     "name": "stderr",
     "output_type": "stream",
     "text": [
      "0: 416x640 10 cars, 1 umbrella, 158.9ms\n",
      "Speed: 3.0ms preprocess, 158.9ms inference, 0.0ms postprocess per image at shape (1, 3, 416, 640)\n",
      "\n",
      "0: 416x640 10 cars, 1 truck, 1 umbrella, 151.9ms\n",
      "Speed: 2.7ms preprocess, 151.9ms inference, 1.2ms postprocess per image at shape (1, 3, 416, 640)\n",
      "\n",
      "0: 416x640 7 cars, 1 umbrella, 152.7ms\n",
      "Speed: 3.0ms preprocess, 152.7ms inference, 1.0ms postprocess per image at shape (1, 3, 416, 640)\n",
      "\n",
      "0: 416x640 7 cars, 1 truck, 1 umbrella, 154.2ms\n",
      "Speed: 3.2ms preprocess, 154.2ms inference, 1.0ms postprocess per image at shape (1, 3, 416, 640)\n",
      "\n",
      "0: 416x640 8 cars, 2 trucks, 1 umbrella, 162.9ms\n",
      "Speed: 2.0ms preprocess, 162.9ms inference, 0.0ms postprocess per image at shape (1, 3, 416, 640)\n",
      "\n",
      "0: 416x640 10 cars, 1 umbrella, 150.4ms\n",
      "Speed: 1.3ms preprocess, 150.4ms inference, 1.0ms postprocess per image at shape (1, 3, 416, 640)\n",
      "\n",
      "0: 416x640 8 cars, 1 truck, 1 umbrella, 150.5ms\n",
      "Speed: 2.0ms preprocess, 150.5ms inference, 0.0ms postprocess per image at shape (1, 3, 416, 640)\n",
      "\n",
      "0: 416x640 9 cars, 1 truck, 1 umbrella, 148.8ms\n",
      "Speed: 3.6ms preprocess, 148.8ms inference, 1.5ms postprocess per image at shape (1, 3, 416, 640)\n",
      "\n",
      "0: 416x640 10 cars, 2 trucks, 1 umbrella, 181.2ms\n",
      "Speed: 2.3ms preprocess, 181.2ms inference, 1.1ms postprocess per image at shape (1, 3, 416, 640)\n",
      "\n",
      "0: 416x640 9 cars, 1 umbrella, 157.1ms\n",
      "Speed: 2.4ms preprocess, 157.1ms inference, 0.5ms postprocess per image at shape (1, 3, 416, 640)\n",
      "\n",
      "0: 416x640 10 cars, 2 trucks, 1 umbrella, 148.0ms\n",
      "Speed: 3.1ms preprocess, 148.0ms inference, 1.0ms postprocess per image at shape (1, 3, 416, 640)\n",
      "\n",
      "0: 416x640 10 cars, 1 truck, 1 umbrella, 144.1ms\n",
      "Speed: 3.0ms preprocess, 144.1ms inference, 1.0ms postprocess per image at shape (1, 3, 416, 640)\n",
      "\n",
      "0: 416x640 10 cars, 1 truck, 1 umbrella, 144.6ms\n",
      "Speed: 3.0ms preprocess, 144.6ms inference, 1.4ms postprocess per image at shape (1, 3, 416, 640)\n",
      "\n",
      "0: 416x640 11 cars, 1 truck, 1 umbrella, 153.4ms\n",
      "Speed: 1.0ms preprocess, 153.4ms inference, 0.0ms postprocess per image at shape (1, 3, 416, 640)\n",
      "\n",
      "0: 416x640 11 cars, 1 truck, 1 umbrella, 149.4ms\n",
      "Speed: 1.7ms preprocess, 149.4ms inference, 1.4ms postprocess per image at shape (1, 3, 416, 640)\n",
      "\n",
      "0: 416x640 12 cars, 1 truck, 1 umbrella, 159.7ms\n",
      "Speed: 3.4ms preprocess, 159.7ms inference, 1.0ms postprocess per image at shape (1, 3, 416, 640)\n",
      "\n",
      "0: 416x640 11 cars, 1 umbrella, 154.2ms\n",
      "Speed: 2.2ms preprocess, 154.2ms inference, 1.0ms postprocess per image at shape (1, 3, 416, 640)\n",
      "\n",
      "0: 416x640 11 cars, 2 trucks, 1 umbrella, 152.8ms\n",
      "Speed: 2.5ms preprocess, 152.8ms inference, 1.0ms postprocess per image at shape (1, 3, 416, 640)\n",
      "\n",
      "0: 416x640 11 cars, 1 bus, 1 truck, 1 umbrella, 146.1ms\n",
      "Speed: 3.5ms preprocess, 146.1ms inference, 1.0ms postprocess per image at shape (1, 3, 416, 640)\n",
      "\n",
      "0: 416x640 11 cars, 2 trucks, 1 umbrella, 150.0ms\n",
      "Speed: 2.2ms preprocess, 150.0ms inference, 1.0ms postprocess per image at shape (1, 3, 416, 640)\n",
      "\n",
      "0: 416x640 11 cars, 1 truck, 1 umbrella, 149.7ms\n",
      "Speed: 3.0ms preprocess, 149.7ms inference, 1.1ms postprocess per image at shape (1, 3, 416, 640)\n",
      "\n",
      "0: 416x640 11 cars, 1 truck, 1 umbrella, 168.2ms\n",
      "Speed: 3.9ms preprocess, 168.2ms inference, 1.3ms postprocess per image at shape (1, 3, 416, 640)\n",
      "\n",
      "0: 416x640 13 cars, 1 truck, 1 umbrella, 165.8ms\n",
      "Speed: 2.6ms preprocess, 165.8ms inference, 1.0ms postprocess per image at shape (1, 3, 416, 640)\n",
      "\n",
      "0: 416x640 14 cars, 1 umbrella, 154.4ms\n",
      "Speed: 3.0ms preprocess, 154.4ms inference, 1.5ms postprocess per image at shape (1, 3, 416, 640)\n",
      "\n",
      "0: 416x640 12 cars, 1 umbrella, 145.7ms\n",
      "Speed: 3.0ms preprocess, 145.7ms inference, 1.0ms postprocess per image at shape (1, 3, 416, 640)\n",
      "\n",
      "0: 416x640 13 cars, 1 umbrella, 142.5ms\n",
      "Speed: 2.0ms preprocess, 142.5ms inference, 1.0ms postprocess per image at shape (1, 3, 416, 640)\n",
      "\n",
      "0: 416x640 13 cars, 1 umbrella, 145.6ms\n",
      "Speed: 2.2ms preprocess, 145.6ms inference, 1.0ms postprocess per image at shape (1, 3, 416, 640)\n",
      "\n",
      "0: 416x640 13 cars, 1 umbrella, 156.8ms\n",
      "Speed: 3.6ms preprocess, 156.8ms inference, 1.0ms postprocess per image at shape (1, 3, 416, 640)\n",
      "\n",
      "0: 416x640 13 cars, 1 bus, 1 umbrella, 158.8ms\n",
      "Speed: 3.1ms preprocess, 158.8ms inference, 1.5ms postprocess per image at shape (1, 3, 416, 640)\n",
      "\n",
      "0: 416x640 11 cars, 1 bus, 1 umbrella, 144.2ms\n",
      "Speed: 3.3ms preprocess, 144.2ms inference, 1.1ms postprocess per image at shape (1, 3, 416, 640)\n",
      "\n",
      "0: 416x640 13 cars, 1 bus, 1 truck, 1 umbrella, 148.1ms\n",
      "Speed: 2.1ms preprocess, 148.1ms inference, 1.0ms postprocess per image at shape (1, 3, 416, 640)\n",
      "\n",
      "0: 416x640 14 cars, 1 umbrella, 146.0ms\n",
      "Speed: 2.0ms preprocess, 146.0ms inference, 0.5ms postprocess per image at shape (1, 3, 416, 640)\n",
      "\n",
      "0: 416x640 13 cars, 1 umbrella, 146.9ms\n",
      "Speed: 3.0ms preprocess, 146.9ms inference, 1.3ms postprocess per image at shape (1, 3, 416, 640)\n",
      "\n",
      "0: 416x640 14 cars, 1 truck, 1 umbrella, 148.7ms\n",
      "Speed: 3.0ms preprocess, 148.7ms inference, 1.0ms postprocess per image at shape (1, 3, 416, 640)\n",
      "\n",
      "0: 416x640 15 cars, 1 truck, 1 umbrella, 149.8ms\n",
      "Speed: 3.5ms preprocess, 149.8ms inference, 0.0ms postprocess per image at shape (1, 3, 416, 640)\n",
      "\n",
      "0: 416x640 14 cars, 1 umbrella, 166.5ms\n",
      "Speed: 3.0ms preprocess, 166.5ms inference, 1.1ms postprocess per image at shape (1, 3, 416, 640)\n",
      "\n",
      "0: 416x640 12 cars, 1 truck, 1 umbrella, 163.9ms\n",
      "Speed: 3.2ms preprocess, 163.9ms inference, 1.0ms postprocess per image at shape (1, 3, 416, 640)\n",
      "\n",
      "0: 416x640 12 cars, 1 truck, 1 umbrella, 150.1ms\n",
      "Speed: 4.0ms preprocess, 150.1ms inference, 1.0ms postprocess per image at shape (1, 3, 416, 640)\n",
      "\n",
      "0: 416x640 11 cars, 1 truck, 1 umbrella, 157.1ms\n",
      "Speed: 2.5ms preprocess, 157.1ms inference, 0.0ms postprocess per image at shape (1, 3, 416, 640)\n",
      "\n",
      "0: 416x640 12 cars, 1 truck, 1 umbrella, 158.2ms\n",
      "Speed: 3.5ms preprocess, 158.2ms inference, 1.0ms postprocess per image at shape (1, 3, 416, 640)\n",
      "\n",
      "0: 416x640 11 cars, 1 truck, 1 umbrella, 155.6ms\n",
      "Speed: 3.2ms preprocess, 155.6ms inference, 1.0ms postprocess per image at shape (1, 3, 416, 640)\n",
      "\n",
      "0: 416x640 11 cars, 1 bus, 2 trucks, 1 umbrella, 152.5ms\n",
      "Speed: 3.7ms preprocess, 152.5ms inference, 1.0ms postprocess per image at shape (1, 3, 416, 640)\n",
      "\n",
      "0: 416x640 11 cars, 2 trucks, 1 umbrella, 150.9ms\n",
      "Speed: 3.1ms preprocess, 150.9ms inference, 1.0ms postprocess per image at shape (1, 3, 416, 640)\n",
      "\n",
      "0: 416x640 14 cars, 1 truck, 1 umbrella, 150.7ms\n",
      "Speed: 3.1ms preprocess, 150.7ms inference, 1.5ms postprocess per image at shape (1, 3, 416, 640)\n",
      "\n",
      "0: 416x640 12 cars, 1 truck, 1 umbrella, 146.1ms\n",
      "Speed: 2.0ms preprocess, 146.1ms inference, 1.0ms postprocess per image at shape (1, 3, 416, 640)\n",
      "\n",
      "0: 416x640 12 cars, 2 trucks, 1 umbrella, 152.0ms\n",
      "Speed: 3.3ms preprocess, 152.0ms inference, 1.0ms postprocess per image at shape (1, 3, 416, 640)\n",
      "\n",
      "0: 416x640 12 cars, 3 trucks, 1 umbrella, 145.2ms\n",
      "Speed: 2.2ms preprocess, 145.2ms inference, 1.0ms postprocess per image at shape (1, 3, 416, 640)\n",
      "\n",
      "0: 416x640 12 cars, 1 truck, 1 umbrella, 144.1ms\n",
      "Speed: 2.5ms preprocess, 144.1ms inference, 1.0ms postprocess per image at shape (1, 3, 416, 640)\n",
      "\n",
      "0: 416x640 12 cars, 1 truck, 1 umbrella, 155.7ms\n",
      "Speed: 4.0ms preprocess, 155.7ms inference, 0.7ms postprocess per image at shape (1, 3, 416, 640)\n",
      "\n",
      "0: 416x640 12 cars, 1 truck, 1 umbrella, 154.6ms\n",
      "Speed: 2.1ms preprocess, 154.6ms inference, 1.1ms postprocess per image at shape (1, 3, 416, 640)\n",
      "\n",
      "0: 416x640 12 cars, 1 truck, 1 umbrella, 153.5ms\n",
      "Speed: 2.0ms preprocess, 153.5ms inference, 1.1ms postprocess per image at shape (1, 3, 416, 640)\n",
      "\n",
      "0: 416x640 12 cars, 1 truck, 1 umbrella, 160.0ms\n",
      "Speed: 3.0ms preprocess, 160.0ms inference, 1.0ms postprocess per image at shape (1, 3, 416, 640)\n",
      "\n",
      "0: 416x640 11 cars, 1 bus, 1 umbrella, 154.1ms\n",
      "Speed: 3.6ms preprocess, 154.1ms inference, 1.0ms postprocess per image at shape (1, 3, 416, 640)\n",
      "\n",
      "0: 416x640 11 cars, 1 bus, 1 truck, 1 umbrella, 160.9ms\n",
      "Speed: 2.0ms preprocess, 160.9ms inference, 1.0ms postprocess per image at shape (1, 3, 416, 640)\n",
      "\n",
      "0: 416x640 1 person, 11 cars, 1 bus, 1 umbrella, 156.0ms\n",
      "Speed: 4.0ms preprocess, 156.0ms inference, 1.1ms postprocess per image at shape (1, 3, 416, 640)\n",
      "\n",
      "0: 416x640 11 cars, 1 bus, 1 umbrella, 163.0ms\n",
      "Speed: 3.0ms preprocess, 163.0ms inference, 1.0ms postprocess per image at shape (1, 3, 416, 640)\n",
      "\n",
      "0: 416x640 1 person, 11 cars, 1 bus, 1 umbrella, 152.5ms\n",
      "Speed: 4.2ms preprocess, 152.5ms inference, 1.4ms postprocess per image at shape (1, 3, 416, 640)\n",
      "\n",
      "0: 416x640 1 person, 11 cars, 1 bus, 1 truck, 1 umbrella, 164.7ms\n",
      "Speed: 3.0ms preprocess, 164.7ms inference, 1.0ms postprocess per image at shape (1, 3, 416, 640)\n",
      "\n",
      "0: 416x640 11 cars, 1 bus, 1 truck, 1 umbrella, 155.7ms\n",
      "Speed: 2.8ms preprocess, 155.7ms inference, 1.0ms postprocess per image at shape (1, 3, 416, 640)\n",
      "\n",
      "0: 416x640 1 person, 11 cars, 1 bus, 1 truck, 1 umbrella, 160.6ms\n",
      "Speed: 3.1ms preprocess, 160.6ms inference, 0.0ms postprocess per image at shape (1, 3, 416, 640)\n",
      "\n",
      "0: 416x640 12 cars, 1 bus, 1 umbrella, 158.4ms\n",
      "Speed: 4.0ms preprocess, 158.4ms inference, 2.3ms postprocess per image at shape (1, 3, 416, 640)\n",
      "\n",
      "0: 416x640 12 cars, 1 bus, 1 umbrella, 162.9ms\n",
      "Speed: 1.4ms preprocess, 162.9ms inference, 1.5ms postprocess per image at shape (1, 3, 416, 640)\n",
      "\n",
      "0: 416x640 12 cars, 1 bus, 1 umbrella, 176.0ms\n",
      "Speed: 3.0ms preprocess, 176.0ms inference, 0.5ms postprocess per image at shape (1, 3, 416, 640)\n",
      "\n",
      "0: 416x640 12 cars, 1 bus, 1 umbrella, 173.0ms\n",
      "Speed: 4.0ms preprocess, 173.0ms inference, 1.1ms postprocess per image at shape (1, 3, 416, 640)\n",
      "\n",
      "0: 416x640 11 cars, 1 bus, 1 umbrella, 160.0ms\n",
      "Speed: 3.2ms preprocess, 160.0ms inference, 1.0ms postprocess per image at shape (1, 3, 416, 640)\n"
     ]
    },
    {
     "name": "stdout",
     "output_type": "stream",
     "text": [
      "[599, 204]\n"
     ]
    },
    {
     "name": "stderr",
     "output_type": "stream",
     "text": [
      "\n",
      "0: 416x640 13 cars, 1 bus, 1 umbrella, 160.7ms\n",
      "Speed: 2.8ms preprocess, 160.7ms inference, 1.0ms postprocess per image at shape (1, 3, 416, 640)\n",
      "\n"
     ]
    },
    {
     "name": "stdout",
     "output_type": "stream",
     "text": [
      "[563, 203]\n",
      "[486, 286]\n",
      "[485, 287]\n",
      "[484, 289]\n"
     ]
    },
    {
     "name": "stderr",
     "output_type": "stream",
     "text": [
      "0: 416x640 12 cars, 1 bus, 1 truck, 1 umbrella, 153.4ms\n",
      "Speed: 3.0ms preprocess, 153.4ms inference, 1.0ms postprocess per image at shape (1, 3, 416, 640)\n",
      "\n",
      "0: 416x640 12 cars, 1 bus, 1 truck, 1 umbrella, 145.4ms\n",
      "Speed: 3.0ms preprocess, 145.4ms inference, 1.4ms postprocess per image at shape (1, 3, 416, 640)\n",
      "\n"
     ]
    },
    {
     "name": "stdout",
     "output_type": "stream",
     "text": [
      "[482, 292]\n"
     ]
    },
    {
     "name": "stderr",
     "output_type": "stream",
     "text": [
      "0: 416x640 11 cars, 2 trucks, 1 umbrella, 153.7ms\n",
      "Speed: 3.2ms preprocess, 153.7ms inference, 1.0ms postprocess per image at shape (1, 3, 416, 640)\n",
      "\n",
      "0: 416x640 1 person, 11 cars, 1 bus, 2 trucks, 1 umbrella, 148.6ms\n",
      "Speed: 5.2ms preprocess, 148.6ms inference, 1.0ms postprocess per image at shape (1, 3, 416, 640)\n",
      "\n"
     ]
    },
    {
     "name": "stdout",
     "output_type": "stream",
     "text": [
      "[502, 181]\n",
      "[502, 180]\n",
      "[502, 179]\n",
      "[505, 169]\n"
     ]
    },
    {
     "name": "stderr",
     "output_type": "stream",
     "text": [
      "0: 416x640 1 person, 11 cars, 1 truck, 1 umbrella, 157.7ms\n",
      "Speed: 3.1ms preprocess, 157.7ms inference, 0.0ms postprocess per image at shape (1, 3, 416, 640)\n",
      "\n",
      "0: 416x640 1 person, 10 cars, 1 umbrella, 161.2ms\n",
      "Speed: 4.1ms preprocess, 161.2ms inference, 1.0ms postprocess per image at shape (1, 3, 416, 640)\n",
      "\n"
     ]
    },
    {
     "name": "stdout",
     "output_type": "stream",
     "text": [
      "[569, 166]\n",
      "[571, 166]\n",
      "[696, 212]\n",
      "[695, 212]\n"
     ]
    },
    {
     "name": "stderr",
     "output_type": "stream",
     "text": [
      "0: 416x640 1 person, 11 cars, 1 umbrella, 149.2ms\n",
      "Speed: 3.6ms preprocess, 149.2ms inference, 2.1ms postprocess per image at shape (1, 3, 416, 640)\n",
      "\n",
      "0: 416x640 1 person, 10 cars, 1 umbrella, 152.4ms\n",
      "Speed: 2.7ms preprocess, 152.4ms inference, 1.0ms postprocess per image at shape (1, 3, 416, 640)\n",
      "\n"
     ]
    },
    {
     "name": "stdout",
     "output_type": "stream",
     "text": [
      "[676, 214]\n",
      "[688, 214]\n"
     ]
    },
    {
     "name": "stderr",
     "output_type": "stream",
     "text": [
      "0: 416x640 1 person, 10 cars, 1 umbrella, 171.3ms\n",
      "Speed: 3.1ms preprocess, 171.3ms inference, 1.2ms postprocess per image at shape (1, 3, 416, 640)\n",
      "\n",
      "0: 416x640 1 person, 10 cars, 1 umbrella, 165.7ms\n",
      "Speed: 3.2ms preprocess, 165.7ms inference, 1.0ms postprocess per image at shape (1, 3, 416, 640)\n",
      "\n"
     ]
    },
    {
     "name": "stdout",
     "output_type": "stream",
     "text": [
      "[753, 227]\n",
      "[754, 227]\n"
     ]
    },
    {
     "name": "stderr",
     "output_type": "stream",
     "text": [
      "0: 416x640 1 person, 10 cars, 1 umbrella, 149.3ms\n",
      "Speed: 3.5ms preprocess, 149.3ms inference, 1.1ms postprocess per image at shape (1, 3, 416, 640)\n",
      "\n",
      "0: 416x640 1 person, 10 cars, 1 umbrella, 144.8ms\n",
      "Speed: 4.1ms preprocess, 144.8ms inference, 1.1ms postprocess per image at shape (1, 3, 416, 640)\n",
      "\n",
      "0: 416x640 1 person, 10 cars, 1 umbrella, 149.7ms\n",
      "Speed: 2.1ms preprocess, 149.7ms inference, 1.0ms postprocess per image at shape (1, 3, 416, 640)\n",
      "\n",
      "0: 416x640 10 cars, 1 umbrella, 148.0ms\n",
      "Speed: 3.2ms preprocess, 148.0ms inference, 1.5ms postprocess per image at shape (1, 3, 416, 640)\n",
      "\n",
      "0: 416x640 11 cars, 1 umbrella, 143.4ms\n",
      "Speed: 3.0ms preprocess, 143.4ms inference, 1.1ms postprocess per image at shape (1, 3, 416, 640)\n",
      "\n",
      "0: 416x640 10 cars, 1 umbrella, 154.0ms\n",
      "Speed: 2.4ms preprocess, 154.0ms inference, 1.0ms postprocess per image at shape (1, 3, 416, 640)\n",
      "\n",
      "0: 416x640 12 cars, 1 umbrella, 143.4ms\n",
      "Speed: 2.5ms preprocess, 143.4ms inference, 1.0ms postprocess per image at shape (1, 3, 416, 640)\n",
      "\n",
      "0: 416x640 9 cars, 1 truck, 1 umbrella, 145.3ms\n",
      "Speed: 3.3ms preprocess, 145.3ms inference, 1.0ms postprocess per image at shape (1, 3, 416, 640)\n",
      "\n"
     ]
    },
    {
     "name": "stdout",
     "output_type": "stream",
     "text": [
      "[754, 226]\n",
      "[754, 223]\n"
     ]
    },
    {
     "name": "stderr",
     "output_type": "stream",
     "text": [
      "0: 416x640 13 cars, 1 umbrella, 153.7ms\n",
      "Speed: 3.0ms preprocess, 153.7ms inference, 1.0ms postprocess per image at shape (1, 3, 416, 640)\n",
      "\n",
      "0: 416x640 12 cars, 1 umbrella, 144.0ms\n",
      "Speed: 3.2ms preprocess, 144.0ms inference, 1.3ms postprocess per image at shape (1, 3, 416, 640)\n",
      "\n"
     ]
    },
    {
     "name": "stdout",
     "output_type": "stream",
     "text": [
      "[754, 220]\n"
     ]
    },
    {
     "name": "stderr",
     "output_type": "stream",
     "text": [
      "0: 416x640 10 cars, 1 umbrella, 154.0ms\n",
      "Speed: 2.5ms preprocess, 154.0ms inference, 1.0ms postprocess per image at shape (1, 3, 416, 640)\n",
      "\n",
      "0: 416x640 12 cars, 1 umbrella, 158.1ms\n",
      "Speed: 3.0ms preprocess, 158.1ms inference, 1.1ms postprocess per image at shape (1, 3, 416, 640)\n",
      "\n",
      "0: 416x640 10 cars, 1 umbrella, 161.4ms\n",
      "Speed: 3.1ms preprocess, 161.4ms inference, 1.0ms postprocess per image at shape (1, 3, 416, 640)\n",
      "\n",
      "0: 416x640 10 cars, 1 umbrella, 151.1ms\n",
      "Speed: 3.2ms preprocess, 151.1ms inference, 1.0ms postprocess per image at shape (1, 3, 416, 640)\n",
      "\n",
      "0: 416x640 12 cars, 1 umbrella, 148.6ms\n",
      "Speed: 3.0ms preprocess, 148.6ms inference, 0.0ms postprocess per image at shape (1, 3, 416, 640)\n",
      "\n",
      "0: 416x640 10 cars, 1 umbrella, 149.9ms\n",
      "Speed: 2.2ms preprocess, 149.9ms inference, 1.0ms postprocess per image at shape (1, 3, 416, 640)\n",
      "\n"
     ]
    },
    {
     "name": "stdout",
     "output_type": "stream",
     "text": [
      "[740, 240]\n",
      "[736, 253]\n"
     ]
    },
    {
     "name": "stderr",
     "output_type": "stream",
     "text": [
      "0: 416x640 11 cars, 1 umbrella, 151.8ms\n",
      "Speed: 3.0ms preprocess, 151.8ms inference, 2.0ms postprocess per image at shape (1, 3, 416, 640)\n",
      "\n",
      "0: 416x640 12 cars, 1 umbrella, 154.2ms\n",
      "Speed: 2.3ms preprocess, 154.2ms inference, 1.0ms postprocess per image at shape (1, 3, 416, 640)\n",
      "\n",
      "0: 416x640 10 cars, 1 umbrella, 139.1ms\n",
      "Speed: 3.0ms preprocess, 139.1ms inference, 1.0ms postprocess per image at shape (1, 3, 416, 640)\n",
      "\n"
     ]
    },
    {
     "name": "stdout",
     "output_type": "stream",
     "text": [
      "[732, 267]\n",
      "[728, 278]\n"
     ]
    },
    {
     "name": "stderr",
     "output_type": "stream",
     "text": [
      "0: 416x640 12 cars, 1 umbrella, 148.2ms\n",
      "Speed: 3.0ms preprocess, 148.2ms inference, 0.0ms postprocess per image at shape (1, 3, 416, 640)\n",
      "\n",
      "0: 416x640 12 cars, 1 umbrella, 150.5ms\n",
      "Speed: 3.1ms preprocess, 150.5ms inference, 1.5ms postprocess per image at shape (1, 3, 416, 640)\n",
      "\n"
     ]
    },
    {
     "name": "stdout",
     "output_type": "stream",
     "text": [
      "[727, 282]\n"
     ]
    },
    {
     "name": "stderr",
     "output_type": "stream",
     "text": [
      "0: 416x640 10 cars, 1 umbrella, 151.2ms\n",
      "Speed: 4.5ms preprocess, 151.2ms inference, 1.3ms postprocess per image at shape (1, 3, 416, 640)\n",
      "\n",
      "0: 416x640 10 cars, 1 umbrella, 165.2ms\n",
      "Speed: 3.5ms preprocess, 165.2ms inference, 1.0ms postprocess per image at shape (1, 3, 416, 640)\n",
      "\n",
      "0: 416x640 9 cars, 1 umbrella, 155.8ms\n",
      "Speed: 3.0ms preprocess, 155.8ms inference, 0.0ms postprocess per image at shape (1, 3, 416, 640)\n",
      "\n"
     ]
    },
    {
     "name": "stdout",
     "output_type": "stream",
     "text": [
      "[730, 270]\n",
      "[730, 269]\n",
      "[712, 213]\n"
     ]
    },
    {
     "name": "stderr",
     "output_type": "stream",
     "text": [
      "0: 416x640 8 cars, 1 truck, 1 umbrella, 147.8ms\n",
      "Speed: 3.1ms preprocess, 147.8ms inference, 1.0ms postprocess per image at shape (1, 3, 416, 640)\n",
      "\n",
      "0: 416x640 8 cars, 1 umbrella, 175.8ms\n"
     ]
    },
    {
     "name": "stdout",
     "output_type": "stream",
     "text": [
      "[683, 194]\n"
     ]
    },
    {
     "name": "stderr",
     "output_type": "stream",
     "text": [
      "Speed: 2.5ms preprocess, 175.8ms inference, 1.0ms postprocess per image at shape (1, 3, 416, 640)\n"
     ]
    }
   ],
   "source": [
    "import cv2\n",
    "import pandas as pd\n",
    "import numpy as np\n",
    "from ultralytics import YOLO\n",
    "import cvzone\n",
    "from vidgear.gears import CamGear\n",
    "from tracker import *\n",
    "\n",
    "model = YOLO('yolov8s.pt')\n",
    "\n",
    "# 다운로드한 동영상 파일 경로\n",
    "video_path = 'sample.mp4'\n",
    "\n",
    "# CamGear를 사용하여 동영상 스트리밍 시작\n",
    "stream = CamGear(source=video_path).start()\n",
    "\n",
    "def RGB(event, x, y, flags, param):\n",
    "    if event == cv2.EVENT_MOUSEMOVE :  \n",
    "        colorsBGR = [x, y]\n",
    "        print(colorsBGR)\n",
    "        \n",
    "\n",
    "cv2.namedWindow('RGB')\n",
    "cv2.setMouseCallback('RGB', RGB)\n",
    "\n",
    "my_file = open(\"coco.txt\", \"r\")\n",
    "data = my_file.read()\n",
    "class_list = data.split(\"\\n\")\n",
    "\n",
    "count = 0\n",
    "tracker = Tracker()\n",
    "\n",
    "while True:    \n",
    "    frame = stream.read()   \n",
    "    count += 1\n",
    "    if count % 2 != 0:\n",
    "        continue\n",
    "\n",
    "    frame = cv2.resize(frame, (1120, 720))\n",
    "    results = model.predict(frame)\n",
    "    a = results[0].boxes.data\n",
    "    px = pd.DataFrame(a).astype(\"float\")\n",
    "    list = []\n",
    "    for index, row in px.iterrows():\n",
    "        x1 = int(row[0])\n",
    "        y1 = int(row[1])\n",
    "        x2 = int(row[2])\n",
    "        y2 = int(row[3])\n",
    "        d = int(row[5])\n",
    "        c = class_list[d]\n",
    "        if 'car' in c:\n",
    "            list.append([x1, y1, x2, y2])\n",
    "    bbox_idx = tracker.update(list)\n",
    "    for bbox in bbox_idx:\n",
    "        x3, y3, x4, y4, id1 = bbox\n",
    "        cx = int(x3 + x4) // 2\n",
    "        cy = int(y3 + y4) // 2\n",
    "       \n",
    "        cv2.circle(frame, (cx, cy), 4, (0, 0, 255), -1)\n",
    "        cv2.rectangle(frame, (x3, y3), (x4, y4), (255, 255, 255), 2) \n",
    "        cvzone.putTextRect(frame, f'{id1}', (x3, y3), 1, 1)\n",
    "\n",
    "    cv2.imshow(\"RGB\", frame)\n",
    "\n",
    "    if cv2.waitKey(1) & 0xFF == ord('q'):\n",
    "        break\n",
    "\n",
    "# CamGear 스트리밍 정리\n",
    "stream.stop()\n",
    "cv2.destroyAllWindows()"
   ]
  },
  {
   "cell_type": "code",
   "execution_count": 14,
   "metadata": {},
   "outputs": [
    {
     "data": {
      "text/plain": [
       "'c:\\\\Users\\\\lenovo\\\\Desktop\\\\capstone\\\\vehicle_detection_tracker-main'"
      ]
     },
     "execution_count": 14,
     "metadata": {},
     "output_type": "execute_result"
    }
   ],
   "source": [
    "%pwd"
   ]
  },
  {
   "cell_type": "code",
   "execution_count": null,
   "metadata": {},
   "outputs": [],
   "source": []
  }
 ],
 "metadata": {
  "kernelspec": {
   "display_name": "inu",
   "language": "python",
   "name": "python3"
  },
  "language_info": {
   "codemirror_mode": {
    "name": "ipython",
    "version": 3
   },
   "file_extension": ".py",
   "mimetype": "text/x-python",
   "name": "python",
   "nbconvert_exporter": "python",
   "pygments_lexer": "ipython3",
   "version": "3.7.16"
  }
 },
 "nbformat": 4,
 "nbformat_minor": 2
}
